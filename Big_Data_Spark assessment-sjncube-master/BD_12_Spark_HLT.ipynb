{
 "cells": [
  {
   "cell_type": "markdown",
   "metadata": {},
   "source": [
    "<img src=\"bridge.jpg\" alt=\"concrete\">"
   ]
  },
  {
   "cell_type": "markdown",
   "metadata": {},
   "source": [
    "Concrete is the most important material in civil engineering. The concrete compressive strength is a highly nonlinear function of age and ingredients. These ingredients include cement, blast furnace slag, fly ash, \n",
    "water, superplasticizer, coarse aggregate, and fine aggregate. You will use these data to predict the compresive strength of a concrete block. The actual concrete compressive strength (MPa) for a given mixture  - our training  data was determined in a laboratory.   Data from [here](https://archive.ics.uci.edu/ml/datasets/Concrete+Compressive+Strength)\n",
    "  \n",
    "We now want to be able to predict concrete compressive strength without needing to measure it in a lab. You will need to read the data into spark, clean it by removing some missing values, and prepare it for model fitting. You will then need to fit an appropriate machine learning model, and output your predictions and saved model.  \n",
    "  \n",
    "You can find the data in the file **concrete.csv**. Once you have built your best model with these data. Please make predictions on these new data **concrete_unmeasured.csv** for which we do not know the concrete compressive strength.  "
   ]
  },
  {
   "cell_type": "markdown",
   "metadata": {},
   "source": [
    "### Start spark app"
   ]
  },
  {
   "cell_type": "code",
   "execution_count": 1,
   "metadata": {},
   "outputs": [],
   "source": [
    "import findspark\n",
    "findspark.init('/opt/spark')"
   ]
  },
  {
   "cell_type": "code",
   "execution_count": 2,
   "metadata": {},
   "outputs": [],
   "source": [
    "import pandas as pd\n",
    "from pyspark.sql import SparkSession\n",
    "spark = SparkSession \\\n",
    "    .builder \\\n",
    "    .appName(\"hlt_group_k\") \\\n",
    "    .getOrCreate()"
   ]
  },
  {
   "cell_type": "markdown",
   "metadata": {},
   "source": [
    "### Load and clean data"
   ]
  },
  {
   "cell_type": "code",
   "execution_count": 3,
   "metadata": {},
   "outputs": [],
   "source": [
    "from pyspark.sql.types import DoubleType, IntegerType"
   ]
  },
  {
   "cell_type": "code",
   "execution_count": 4,
   "metadata": {},
   "outputs": [],
   "source": [
    "data = spark.read.csv(\"concrete.csv\",header=True)"
   ]
  },
  {
   "cell_type": "code",
   "execution_count": 5,
   "metadata": {},
   "outputs": [
    {
     "name": "stdout",
     "output_type": "stream",
     "text": [
      "+-----------+-----------------------+------------+----------+---------------------+---------------------+-------------------+--------+---------------------------------+\n",
      "|Cement_kgm3|Blast_Furnace_Slag_kgm3|Fly_Ash_kgm3|Water_kgm3|Superplasticizer_kgm3|Coarse_Aggregate_kgm3|Fine_Aggregate_kgm3|Age_days|Concrete_compressive_strength_MPa|\n",
      "+-----------+-----------------------+------------+----------+---------------------+---------------------+-------------------+--------+---------------------------------+\n",
      "|        540|                      0|           0|       162|                  2.5|                 1040|                676|      28|                      79.98611076|\n",
      "|        540|                      0|           0|       162|                  2.5|                 1055|                676|      28|                      61.88736576|\n",
      "|      332.5|                  142.5|           0|       228|                    0|                  932|                594|     270|                     40.269535256|\n",
      "|      332.5|                  142.5|           0|       228|                    0|                  932|                594|     365|                     41.052779992|\n",
      "|      198.6|                  132.4|           0|       192|                    0|                978.4|              825.5|     360|                     44.296075096|\n",
      "|        266|                    114|           0|       228|                    0|                  932|                670|      90|                     47.029847436|\n",
      "|        380|                     95|           0|       228|                    0|                  932|                594|     365|                     43.698299404|\n",
      "|        380|                     95|           0|       228|                    0|                  932|                594|      28|                     36.447769788|\n",
      "|        266|                    114|           0|       228|                    0|                  932|                670|      28|                     45.854290856|\n",
      "|        475|                      0|           0|       228|                    0|                  932|                594|      28|                      39.28978986|\n",
      "|      198.6|                  132.4|           0|       192|                    0|                978.4|              825.5|      90|                     38.074243672|\n",
      "|      198.6|                  132.4|           0|       192|                    0|                978.4|              825.5|      28|                     28.021683592|\n",
      "|      427.5|                   47.5|           0|       228|                    0|                  932|                594|     270|                      43.01296026|\n",
      "|        190|                    190|           0|       228|                    0|                  932|                670|      90|                      42.32693164|\n",
      "|        304|                     76|           0|       228|                    0|                  932|                670|      28|                     47.813781648|\n",
      "|        380|                      0|           0|       228|                    0|                  932|                670|      90|                     52.908319812|\n",
      "|      139.6|                  209.4|           0|       192|                    0|                 1047|              806.9|      90|                     39.358047984|\n",
      "|        342|                     38|           0|      null|                    0|                  932|               null|     365|                     56.141962252|\n",
      "|        380|                     95|           0|       228|                    0|                  932|                594|      90|                     40.563252032|\n",
      "|        475|                      0|           0|       228|                    0|                  932|                594|     180|                     42.620648416|\n",
      "+-----------+-----------------------+------------+----------+---------------------+---------------------+-------------------+--------+---------------------------------+\n",
      "only showing top 20 rows\n",
      "\n"
     ]
    }
   ],
   "source": [
    "data.show()"
   ]
  },
  {
   "cell_type": "code",
   "execution_count": 6,
   "metadata": {},
   "outputs": [
    {
     "name": "stdout",
     "output_type": "stream",
     "text": [
      "root\n",
      " |-- Cement_kgm3: string (nullable = true)\n",
      " |-- Blast_Furnace_Slag_kgm3: string (nullable = true)\n",
      " |-- Fly_Ash_kgm3: string (nullable = true)\n",
      " |-- Water_kgm3: string (nullable = true)\n",
      " |-- Superplasticizer_kgm3: string (nullable = true)\n",
      " |-- Coarse_Aggregate_kgm3: string (nullable = true)\n",
      " |-- Fine_Aggregate_kgm3: string (nullable = true)\n",
      " |-- Age_days: string (nullable = true)\n",
      " |-- Concrete_compressive_strength_MPa: string (nullable = true)\n",
      "\n"
     ]
    }
   ],
   "source": [
    "data.printSchema()"
   ]
  },
  {
   "cell_type": "code",
   "execution_count": 7,
   "metadata": {},
   "outputs": [],
   "source": [
    "data = data.dropna()"
   ]
  },
  {
   "cell_type": "code",
   "execution_count": 8,
   "metadata": {},
   "outputs": [],
   "source": [
    "#convert all columns\n",
    "for col_name in data.columns:\n",
    "    data = data.withColumn(col_name, data[col_name].cast(DoubleType()))"
   ]
  },
  {
   "cell_type": "code",
   "execution_count": 9,
   "metadata": {},
   "outputs": [],
   "source": [
    "# Split the data into training and test sets (30% held out for testing)\n",
    "(trainingData, testData) = data.randomSplit([0.7, 0.3])"
   ]
  },
  {
   "cell_type": "code",
   "execution_count": 10,
   "metadata": {},
   "outputs": [
    {
     "name": "stdout",
     "output_type": "stream",
     "text": [
      "root\n",
      " |-- Cement_kgm3: double (nullable = true)\n",
      " |-- Blast_Furnace_Slag_kgm3: double (nullable = true)\n",
      " |-- Fly_Ash_kgm3: double (nullable = true)\n",
      " |-- Water_kgm3: double (nullable = true)\n",
      " |-- Superplasticizer_kgm3: double (nullable = true)\n",
      " |-- Coarse_Aggregate_kgm3: double (nullable = true)\n",
      " |-- Fine_Aggregate_kgm3: double (nullable = true)\n",
      " |-- Age_days: double (nullable = true)\n",
      " |-- Concrete_compressive_strength_MPa: double (nullable = true)\n",
      "\n"
     ]
    }
   ],
   "source": [
    "data.printSchema()"
   ]
  },
  {
   "cell_type": "code",
   "execution_count": 11,
   "metadata": {},
   "outputs": [],
   "source": [
    "data = data.dropna()"
   ]
  },
  {
   "cell_type": "code",
   "execution_count": 12,
   "metadata": {},
   "outputs": [
    {
     "name": "stdout",
     "output_type": "stream",
     "text": [
      "root\n",
      " |-- Cement_kgm3: double (nullable = true)\n",
      " |-- Blast_Furnace_Slag_kgm3: double (nullable = true)\n",
      " |-- Fly_Ash_kgm3: double (nullable = true)\n",
      " |-- Water_kgm3: double (nullable = true)\n",
      " |-- Superplasticizer_kgm3: double (nullable = true)\n",
      " |-- Coarse_Aggregate_kgm3: double (nullable = true)\n",
      " |-- Fine_Aggregate_kgm3: double (nullable = true)\n",
      " |-- Age_days: double (nullable = true)\n",
      " |-- Concrete_compressive_strength_MPa: double (nullable = true)\n",
      "\n"
     ]
    }
   ],
   "source": [
    "data.printSchema()"
   ]
  },
  {
   "cell_type": "markdown",
   "metadata": {},
   "source": [
    "### Prepare data for model"
   ]
  },
  {
   "cell_type": "code",
   "execution_count": 13,
   "metadata": {},
   "outputs": [],
   "source": [
    "from pyspark.ml import Pipeline\n",
    "from pyspark.ml.feature import OneHotEncoder, VectorAssembler\n",
    "from pyspark.ml.regression import DecisionTreeRegressor\n",
    "from pyspark.ml.evaluation import RegressionEvaluator"
   ]
  },
  {
   "cell_type": "code",
   "execution_count": 14,
   "metadata": {},
   "outputs": [],
   "source": [
    "# assemble variables to one feature column\n",
    "assembler = VectorAssembler(\n",
    "    inputCols = [\"Cement_kgm3\",\"Blast_Furnace_Slag_kgm3\",\"Fly_Ash_kgm3\",\"Water_kgm3\",\"Superplasticizer_kgm3\",\"Coarse_Aggregate_kgm3\",\"Fine_Aggregate_kgm3\",\"Age_days\"],\n",
    "    outputCol = \"features\")\n",
    "\n",
    "#define the estimator - decision tree\n",
    "dt = DecisionTreeRegressor(labelCol=\"Concrete_compressive_strength_MPa\", featuresCol=\"features\")\n",
    "\n",
    "# Chain indexers and tree in a Pipeline\n",
    "pipeline = Pipeline(stages=[assembler, dt])"
   ]
  },
  {
   "cell_type": "code",
   "execution_count": null,
   "metadata": {},
   "outputs": [],
   "source": []
  },
  {
   "cell_type": "code",
   "execution_count": null,
   "metadata": {},
   "outputs": [],
   "source": []
  },
  {
   "cell_type": "code",
   "execution_count": null,
   "metadata": {},
   "outputs": [],
   "source": []
  },
  {
   "cell_type": "code",
   "execution_count": null,
   "metadata": {},
   "outputs": [],
   "source": []
  },
  {
   "cell_type": "markdown",
   "metadata": {},
   "source": [
    "### Fit pipeline and transform data"
   ]
  },
  {
   "cell_type": "code",
   "execution_count": 15,
   "metadata": {},
   "outputs": [],
   "source": [
    "#fit the pipeline\n",
    "PipelineModel = pipeline.fit(trainingData)\n",
    "\n",
    "# transform using the pipeline\n",
    "predictions = PipelineModel.transform(testData)\n",
    "\n",
    "# evaluate model fit\n",
    "predictions.select(\"prediction\", \"Concrete_compressive_strength_MPa\")\n",
    "evaluator = RegressionEvaluator(\n",
    "    labelCol=\"Concrete_compressive_strength_MPa\", predictionCol=\"prediction\", metricName=\"rmse\")\n",
    "rmse = evaluator.evaluate(predictions)"
   ]
  },
  {
   "cell_type": "code",
   "execution_count": 16,
   "metadata": {},
   "outputs": [
    {
     "name": "stdout",
     "output_type": "stream",
     "text": [
      "+-----------+-----------------------+------------+----------+---------------------+---------------------+-------------------+--------+---------------------------------+--------------------+------------------+\n",
      "|Cement_kgm3|Blast_Furnace_Slag_kgm3|Fly_Ash_kgm3|Water_kgm3|Superplasticizer_kgm3|Coarse_Aggregate_kgm3|Fine_Aggregate_kgm3|Age_days|Concrete_compressive_strength_MPa|            features|        prediction|\n",
      "+-----------+-----------------------+------------+----------+---------------------+---------------------+-------------------+--------+---------------------------------+--------------------+------------------+\n",
      "|      102.0|                  153.0|         0.0|     192.0|                  0.0|                887.0|              942.0|     3.0|                      4.565020596|[102.0,153.0,0.0,...|12.013511651966338|\n",
      "|      108.3|                  162.4|         0.0|     203.5|                  0.0|                938.2|              849.0|     3.0|                      2.331807832|[108.3,162.4,0.0,...|12.013511651966338|\n",
      "|      108.3|                  162.4|         0.0|     203.5|                  0.0|                938.2|              849.0|    90.0|                     29.231713972|[108.3,162.4,0.0,...|28.872460687789474|\n",
      "|      116.0|                  173.0|         0.0|     192.0|                  0.0|                909.8|              891.9|     7.0|                     10.089791784|[116.0,173.0,0.0,...|12.013511651966338|\n",
      "|      116.0|                  173.0|         0.0|     192.0|                  0.0|                909.8|              891.9|    28.0|                     22.347985588|[116.0,173.0,0.0,...|28.872460687789474|\n",
      "|      116.0|                  173.0|         0.0|     192.0|                  0.0|                909.8|              891.9|    90.0|                     31.023662096|[116.0,173.0,0.0,...|28.872460687789474|\n",
      "|      122.6|                  183.9|         0.0|     203.5|                  0.0|                958.2|              800.1|    28.0|                     24.290928956|[122.6,183.9,0.0,...|28.872460687789474|\n",
      "|      132.0|                  207.0|       161.0|     179.0|                  5.0|                867.0|              736.0|    28.0|                       33.3016908|[132.0,207.0,161....|28.872460687789474|\n",
      "|      133.0|                  200.0|         0.0|     192.0|                  0.0|                927.4|              839.2|     7.0|                     13.664035368|[133.0,200.0,0.0,...|12.013511651966338|\n",
      "|      133.0|                  200.0|         0.0|     192.0|                  0.0|                927.4|              839.2|    90.0|                     36.588422892|[133.0,200.0,0.0,...|28.872460687789474|\n",
      "|      133.1|                  210.2|         0.0|     195.7|                  3.1|                949.4|              795.3|    28.0|                     28.937997196|[133.1,210.2,0.0,...|28.872460687789474|\n",
      "|      136.0|                  196.0|        98.0|     199.0|                  6.0|                847.0|              783.0|    28.0|                      26.96540636|[136.0,196.0,98.0...|28.872460687789474|\n",
      "|      136.4|                  161.6|       125.8|     171.6|                 10.4|                922.6|              764.4|    28.0|                     29.073134492|[136.4,161.6,125....|36.152674059999995|\n",
      "|      139.6|                  209.4|         0.0|     192.0|                  0.0|               1047.0|              806.9|   180.0|                     44.207822168|[139.6,209.4,0.0,...|28.872460687789474|\n",
      "|      139.6|                  209.4|         0.0|     192.0|                  0.0|               1047.0|              806.9|   360.0|                     44.698039604|[139.6,209.4,0.0,...|28.872460687789474|\n",
      "|      139.9|                  132.6|       103.3|     200.3|                  7.4|                916.0|              753.4|    28.0|                     36.443632932|[139.9,132.6,103....|28.872460687789474|\n",
      "|      143.7|                  170.2|       132.6|     191.6|                  8.5|                814.1|              805.3|    28.0|                     29.870858224|[143.7,170.2,132....|28.872460687789474|\n",
      "|      144.0|                  136.0|       106.0|     178.0|                  7.0|                941.0|              774.0|    28.0|                      26.14492992|[144.0,136.0,106....|28.872460687789474|\n",
      "|      144.8|                    0.0|       133.6|     180.8|                 11.1|                979.5|              811.5|    28.0|                     13.202086448|[144.8,0.0,133.6,...|15.026758163692309|\n",
      "|      145.0|                  116.0|       119.0|     184.0|                  5.7|                833.0|              880.0|    28.0|                      29.15794004|[145.0,116.0,119....|28.872460687789474|\n",
      "+-----------+-----------------------+------------+----------+---------------------+---------------------+-------------------+--------+---------------------------------+--------------------+------------------+\n",
      "only showing top 20 rows\n",
      "\n"
     ]
    }
   ],
   "source": [
    "predictions.show()"
   ]
  },
  {
   "cell_type": "code",
   "execution_count": 17,
   "metadata": {},
   "outputs": [
    {
     "name": "stdout",
     "output_type": "stream",
     "text": [
      "+------------------+---------------------------------+\n",
      "|        prediction|Concrete_compressive_strength_MPa|\n",
      "+------------------+---------------------------------+\n",
      "|12.013511651966338|                      4.565020596|\n",
      "|12.013511651966338|                      2.331807832|\n",
      "|28.872460687789474|                     29.231713972|\n",
      "|12.013511651966338|                     10.089791784|\n",
      "|28.872460687789474|                     22.347985588|\n",
      "|28.872460687789474|                     31.023662096|\n",
      "|28.872460687789474|                     24.290928956|\n",
      "|28.872460687789474|                       33.3016908|\n",
      "|12.013511651966338|                     13.664035368|\n",
      "|28.872460687789474|                     36.588422892|\n",
      "|28.872460687789474|                     28.937997196|\n",
      "|28.872460687789474|                      26.96540636|\n",
      "|36.152674059999995|                     29.073134492|\n",
      "|28.872460687789474|                     44.207822168|\n",
      "|28.872460687789474|                     44.698039604|\n",
      "|28.872460687789474|                     36.443632932|\n",
      "|28.872460687789474|                     29.870858224|\n",
      "|28.872460687789474|                      26.14492992|\n",
      "|15.026758163692309|                     13.202086448|\n",
      "|28.872460687789474|                      29.15794004|\n",
      "+------------------+---------------------------------+\n",
      "only showing top 20 rows\n",
      "\n"
     ]
    }
   ],
   "source": [
    "predictions.select(\"prediction\", \"Concrete_compressive_strength_MPa\").show()"
   ]
  },
  {
   "cell_type": "code",
   "execution_count": 18,
   "metadata": {},
   "outputs": [
    {
     "name": "stdout",
     "output_type": "stream",
     "text": [
      "8.121616052463242\n"
     ]
    }
   ],
   "source": [
    "##Root mean square error\n",
    "print(rmse)"
   ]
  },
  {
   "cell_type": "code",
   "execution_count": 21,
   "metadata": {},
   "outputs": [],
   "source": [
    "#save the fitted pipeline for later use\n",
    "#PipelineModel.save(\"my_pipeline\")"
   ]
  },
  {
   "cell_type": "markdown",
   "metadata": {},
   "source": [
    "### Predict new data"
   ]
  },
  {
   "cell_type": "markdown",
   "metadata": {},
   "source": [
    "#### Prepare Data"
   ]
  },
  {
   "cell_type": "code",
   "execution_count": 26,
   "metadata": {},
   "outputs": [],
   "source": [
    "new_data = spark.read.csv(\"concrete_unmeasured.csv\",header=True)"
   ]
  },
  {
   "cell_type": "code",
   "execution_count": 27,
   "metadata": {},
   "outputs": [
    {
     "name": "stdout",
     "output_type": "stream",
     "text": [
      "root\n",
      " |-- Cement_kgm3: string (nullable = true)\n",
      " |-- Blast_Furnace_Slag_kgm3: string (nullable = true)\n",
      " |-- Fly_Ash_kgm3: string (nullable = true)\n",
      " |-- Water_kgm3: string (nullable = true)\n",
      " |-- Superplasticizer_kgm3: string (nullable = true)\n",
      " |-- Coarse_Aggregate_kgm3: string (nullable = true)\n",
      " |-- Fine_Aggregate_kgm3: string (nullable = true)\n",
      " |-- Age_days: string (nullable = true)\n",
      "\n"
     ]
    }
   ],
   "source": [
    "new_data.printSchema()"
   ]
  },
  {
   "cell_type": "code",
   "execution_count": 32,
   "metadata": {},
   "outputs": [],
   "source": [
    "new_data = new_data.dropna()"
   ]
  },
  {
   "cell_type": "code",
   "execution_count": 33,
   "metadata": {},
   "outputs": [],
   "source": [
    "#convert all columns\n",
    "for col_name in new_data.columns:\n",
    "    new_data = new_data.withColumn(col_name, new_data[col_name].cast(DoubleType()))"
   ]
  },
  {
   "cell_type": "code",
   "execution_count": 34,
   "metadata": {},
   "outputs": [],
   "source": [
    "new_data = new_data.dropna()"
   ]
  },
  {
   "cell_type": "code",
   "execution_count": 35,
   "metadata": {},
   "outputs": [
    {
     "name": "stdout",
     "output_type": "stream",
     "text": [
      "root\n",
      " |-- Cement_kgm3: double (nullable = true)\n",
      " |-- Blast_Furnace_Slag_kgm3: double (nullable = true)\n",
      " |-- Fly_Ash_kgm3: double (nullable = true)\n",
      " |-- Water_kgm3: double (nullable = true)\n",
      " |-- Superplasticizer_kgm3: double (nullable = true)\n",
      " |-- Coarse_Aggregate_kgm3: double (nullable = true)\n",
      " |-- Fine_Aggregate_kgm3: double (nullable = true)\n",
      " |-- Age_days: double (nullable = true)\n",
      "\n"
     ]
    }
   ],
   "source": [
    "new_data.printSchema()"
   ]
  },
  {
   "cell_type": "markdown",
   "metadata": {},
   "source": [
    "#### Model Prediction"
   ]
  },
  {
   "cell_type": "code",
   "execution_count": 36,
   "metadata": {},
   "outputs": [],
   "source": [
    "new_predictions = PipelineModel.transform(new_data)"
   ]
  },
  {
   "cell_type": "code",
   "execution_count": 37,
   "metadata": {},
   "outputs": [
    {
     "name": "stdout",
     "output_type": "stream",
     "text": [
      "+-----------+-----------------------+------------+----------+---------------------+---------------------+-------------------+--------+---------------------------------+--------------------+------------------+\n",
      "|Cement_kgm3|Blast_Furnace_Slag_kgm3|Fly_Ash_kgm3|Water_kgm3|Superplasticizer_kgm3|Coarse_Aggregate_kgm3|Fine_Aggregate_kgm3|Age_days|Concrete_compressive_strength_MPa|            features|        prediction|\n",
      "+-----------+-----------------------+------------+----------+---------------------+---------------------+-------------------+--------+---------------------------------+--------------------+------------------+\n",
      "|      102.0|                  153.0|         0.0|     192.0|                  0.0|                887.0|              942.0|     3.0|                      4.565020596|[102.0,153.0,0.0,...|12.013511651966338|\n",
      "|      108.3|                  162.4|         0.0|     203.5|                  0.0|                938.2|              849.0|     3.0|                      2.331807832|[108.3,162.4,0.0,...|12.013511651966338|\n",
      "|      108.3|                  162.4|         0.0|     203.5|                  0.0|                938.2|              849.0|    90.0|                     29.231713972|[108.3,162.4,0.0,...|28.872460687789474|\n",
      "|      116.0|                  173.0|         0.0|     192.0|                  0.0|                909.8|              891.9|     7.0|                     10.089791784|[116.0,173.0,0.0,...|12.013511651966338|\n",
      "|      116.0|                  173.0|         0.0|     192.0|                  0.0|                909.8|              891.9|    28.0|                     22.347985588|[116.0,173.0,0.0,...|28.872460687789474|\n",
      "|      116.0|                  173.0|         0.0|     192.0|                  0.0|                909.8|              891.9|    90.0|                     31.023662096|[116.0,173.0,0.0,...|28.872460687789474|\n",
      "|      122.6|                  183.9|         0.0|     203.5|                  0.0|                958.2|              800.1|    28.0|                     24.290928956|[122.6,183.9,0.0,...|28.872460687789474|\n",
      "|      132.0|                  207.0|       161.0|     179.0|                  5.0|                867.0|              736.0|    28.0|                       33.3016908|[132.0,207.0,161....|28.872460687789474|\n",
      "|      133.0|                  200.0|         0.0|     192.0|                  0.0|                927.4|              839.2|     7.0|                     13.664035368|[133.0,200.0,0.0,...|12.013511651966338|\n",
      "|      133.0|                  200.0|         0.0|     192.0|                  0.0|                927.4|              839.2|    90.0|                     36.588422892|[133.0,200.0,0.0,...|28.872460687789474|\n",
      "|      133.1|                  210.2|         0.0|     195.7|                  3.1|                949.4|              795.3|    28.0|                     28.937997196|[133.1,210.2,0.0,...|28.872460687789474|\n",
      "|      136.0|                  196.0|        98.0|     199.0|                  6.0|                847.0|              783.0|    28.0|                      26.96540636|[136.0,196.0,98.0...|28.872460687789474|\n",
      "|      136.4|                  161.6|       125.8|     171.6|                 10.4|                922.6|              764.4|    28.0|                     29.073134492|[136.4,161.6,125....|36.152674059999995|\n",
      "|      139.6|                  209.4|         0.0|     192.0|                  0.0|               1047.0|              806.9|   180.0|                     44.207822168|[139.6,209.4,0.0,...|28.872460687789474|\n",
      "|      139.6|                  209.4|         0.0|     192.0|                  0.0|               1047.0|              806.9|   360.0|                     44.698039604|[139.6,209.4,0.0,...|28.872460687789474|\n",
      "|      139.9|                  132.6|       103.3|     200.3|                  7.4|                916.0|              753.4|    28.0|                     36.443632932|[139.9,132.6,103....|28.872460687789474|\n",
      "|      143.7|                  170.2|       132.6|     191.6|                  8.5|                814.1|              805.3|    28.0|                     29.870858224|[143.7,170.2,132....|28.872460687789474|\n",
      "|      144.0|                  136.0|       106.0|     178.0|                  7.0|                941.0|              774.0|    28.0|                      26.14492992|[144.0,136.0,106....|28.872460687789474|\n",
      "|      144.8|                    0.0|       133.6|     180.8|                 11.1|                979.5|              811.5|    28.0|                     13.202086448|[144.8,0.0,133.6,...|15.026758163692309|\n",
      "|      145.0|                  116.0|       119.0|     184.0|                  5.7|                833.0|              880.0|    28.0|                      29.15794004|[145.0,116.0,119....|28.872460687789474|\n",
      "+-----------+-----------------------+------------+----------+---------------------+---------------------+-------------------+--------+---------------------------------+--------------------+------------------+\n",
      "only showing top 20 rows\n",
      "\n"
     ]
    }
   ],
   "source": [
    "predictions.show()"
   ]
  },
  {
   "cell_type": "markdown",
   "metadata": {},
   "source": [
    "### END"
   ]
  },
  {
   "cell_type": "code",
   "execution_count": 38,
   "metadata": {},
   "outputs": [],
   "source": [
    "spark.stop()"
   ]
  },
  {
   "cell_type": "code",
   "execution_count": null,
   "metadata": {},
   "outputs": [],
   "source": []
  }
 ],
 "metadata": {
  "kernelspec": {
   "display_name": "Python 3",
   "language": "python",
   "name": "python3"
  },
  "language_info": {
   "codemirror_mode": {
    "name": "ipython",
    "version": 3
   },
   "file_extension": ".py",
   "mimetype": "text/x-python",
   "name": "python",
   "nbconvert_exporter": "python",
   "pygments_lexer": "ipython3",
   "version": "3.7.3"
  }
 },
 "nbformat": 4,
 "nbformat_minor": 2
}
